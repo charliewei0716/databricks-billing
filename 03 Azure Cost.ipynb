{
 "cells": [
  {
   "cell_type": "markdown",
   "metadata": {
    "application/vnd.databricks.v1+cell": {
     "cellMetadata": {
      "byteLimit": 2048000,
      "rowLimit": 10000
     },
     "inputWidgets": {},
     "nuid": "ebd098b6-88a2-4b56-805c-70838f0fd6bb",
     "showTitle": false,
     "tableResultSettingsMap": {},
     "title": ""
    }
   },
   "source": [
    "# 03 Azure Cost"
   ]
  },
  {
   "cell_type": "code",
   "execution_count": 0,
   "metadata": {
    "application/vnd.databricks.v1+cell": {
     "cellMetadata": {
      "byteLimit": 2048000,
      "rowLimit": 10000
     },
     "inputWidgets": {},
     "nuid": "c1131820-409b-4955-949d-e869e5984310",
     "showTitle": false,
     "tableResultSettingsMap": {},
     "title": ""
    }
   },
   "outputs": [],
   "source": [
    "from pyspark.sql.functions import col, to_date, concat, lit, from_json\n",
    "from pyspark.sql.types import MapType, StringType"
   ]
  },
  {
   "cell_type": "markdown",
   "metadata": {
    "application/vnd.databricks.v1+cell": {
     "cellMetadata": {
      "byteLimit": 2048000,
      "rowLimit": 10000
     },
     "inputWidgets": {},
     "nuid": "74bf1f2a-b8d6-4383-a82f-b5b2d937e350",
     "showTitle": false,
     "tableResultSettingsMap": {},
     "title": ""
    }
   },
   "source": [
    "It is recommended to use [Azure Cost Management Exports](https://learn.microsoft.com/en-us/azure/cost-management-billing/costs/tutorial-improved-exports) to periodically export cost data in CSV format and establish [connections between Unity Catalog and Azure Storage Account](https://learn.microsoft.com/en-us/azure/databricks/connect/unity-catalog/)."
   ]
  },
  {
   "cell_type": "code",
   "execution_count": 0,
   "metadata": {
    "application/vnd.databricks.v1+cell": {
     "cellMetadata": {
      "byteLimit": 2048000,
      "rowLimit": 10000
     },
     "inputWidgets": {},
     "nuid": "fb5480c0-6e7b-4a36-8bd7-8583456dfae6",
     "showTitle": false,
     "tableResultSettingsMap": {},
     "title": ""
    }
   },
   "outputs": [],
   "source": [
    "csv_path = \"/Volumes/main/billing/azure/cost/cost-amortized-cost/*/*/*.csv\"\n",
    "df = spark.read.option(\"escape\", '\"').csv(csv_path, header=True)\n",
    "\n",
    "json_schema = MapType(StringType(), StringType())\n",
    "\n",
    "df = (\n",
    "    df.select(\"Date\", \"MeterCategory\", \"CostInBillingCurrency\", \"Tags\", \"SubscriptionId\")\n",
    "    .withColumn(\"Date\", to_date(col(\"Date\"), \"MM/dd/yyyy\"))\n",
    "    .withColumn(\"CostInBillingCurrency\", col(\"CostInBillingCurrency\").cast(\"decimal(38,18)\"))\n",
    "    .withColumn(\"Tags\", concat(lit(\"{\"), col(\"Tags\"), lit(\"}\")))\n",
    "    .withColumn(\"Tags\", from_json(col(\"Tags\"), json_schema))\n",
    ")\n",
    "\n",
    "df = df.select(\n",
    "        col(\"Date\").alias(\"usage_date\"),\n",
    "        col(\"MeterCategory\").alias(\"meter_category\"),\n",
    "        (col(\"CostInBillingCurrency\") / 30).alias(\"cost\"), # The exchange rate of the NTD to the USD\n",
    "        col(\"Tags.JobId\").alias(\"job_id\")\n",
    "    ).filter(\n",
    "        (col(\"Tags.JobId\").isNotNull())\n",
    "        & (col(\"MeterCategory\").isin(\"Virtual Machines\", \"Storage\", \"Bandwidth\"))\n",
    "    )\n",
    "\n",
    "df = (\n",
    "    df.groupBy(\"usage_date\", \"meter_category\", \"job_id\").sum(\"cost\")\n",
    "    .withColumnRenamed(\"sum(cost)\", \"cost\")\n",
    ")\n",
    "\n",
    "usage_df = (\n",
    "    spark.table(\"system.billing.usage\")\n",
    "    .select(\"workspace_id\", \"usage_metadata.job_id\")\n",
    "    .filter(col(\"usage_metadata.job_id\").isNotNull())\n",
    "    .distinct()\n",
    ")\n",
    "\n",
    "df = (\n",
    "    df.join(usage_df, df.job_id == usage_df.job_id, \"inner\")\n",
    "    .select(df.usage_date, usage_df.workspace_id, df.job_id, df.meter_category, df.cost)\n",
    ")\n",
    "\n",
    "# display(df)"
   ]
  },
  {
   "cell_type": "code",
   "execution_count": 0,
   "metadata": {
    "application/vnd.databricks.v1+cell": {
     "cellMetadata": {
      "byteLimit": 2048000,
      "rowLimit": 10000
     },
     "inputWidgets": {},
     "nuid": "b60e4356-a1e3-438b-bd0e-76574fc94c80",
     "showTitle": false,
     "tableResultSettingsMap": {},
     "title": ""
    }
   },
   "outputs": [],
   "source": [
    "df.write.mode(\"overwrite\").saveAsTable(\"main.billing.azure_cost\")"
   ]
  }
 ],
 "metadata": {
  "application/vnd.databricks.v1+notebook": {
   "computePreferences": null,
   "dashboards": [],
   "environmentMetadata": {
    "base_environment": "",
    "environment_version": "2"
   },
   "inputWidgetPreferences": null,
   "language": "python",
   "notebookMetadata": {
    "mostRecentlyExecutedCommandWithImplicitDF": {
     "commandId": 7320114006985987,
     "dataframes": [
      "_sqldf"
     ]
    },
    "pythonIndentUnit": 4
   },
   "notebookName": "03 Azure Cost",
   "widgets": {}
  },
  "language_info": {
   "name": "python"
  }
 },
 "nbformat": 4,
 "nbformat_minor": 0
}
