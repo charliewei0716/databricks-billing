{
 "cells": [
  {
   "cell_type": "markdown",
   "metadata": {
    "application/vnd.databricks.v1+cell": {
     "cellMetadata": {},
     "inputWidgets": {},
     "nuid": "a4d4a735-2b71-482c-9b49-10c3b6898e91",
     "showTitle": false,
     "tableResultSettingsMap": {},
     "title": ""
    }
   },
   "source": [
    "# 04 Forecast\n",
    "\n",
    "It is recommended to use SQL warehouse serverless to execute this notebook. Please refer to the [requirements](https://docs.databricks.com/gcp/en/sql/language-manual/functions/ai_forecast#requirement) of `AI_FORECAST`."
   ]
  },
  {
   "cell_type": "code",
   "execution_count": 0,
   "metadata": {
    "application/vnd.databricks.v1+cell": {
     "cellMetadata": {
      "byteLimit": 2048000,
      "rowLimit": 10000
     },
     "inputWidgets": {},
     "nuid": "8b78fd03-a348-4437-ae4f-fa9e14e43a9e",
     "showTitle": false,
     "tableResultSettingsMap": {},
     "title": ""
    }
   },
   "outputs": [],
   "source": [
    "CREATE OR REPLACE TEMPORARY VIEW dbu_cost AS (\n",
    "WITH\n",
    "usage AS (\n",
    "    SELECT usage_date, sku_name, usage_unit, usage_quantity\n",
    "    FROM system.billing.usage\n",
    "    WHERE usage_date >= '2025-01-01'\n",
    "),\n",
    "prices AS (\n",
    "    SELECT\n",
    "        price_start_time,\n",
    "        COALESCE(price_end_time, DATE_ADD(CURRENT_DATE, 1)) AS price_end_time,\n",
    "        sku_name,\n",
    "        usage_unit,\n",
    "        pricing.effective_list.default AS pricing\n",
    "    FROM system.billing.list_prices\n",
    "    WHERE currency_code = 'USD'\n",
    ")\n",
    "SELECT u.usage_date, 'DBU' AS sku, SUM(u.usage_quantity*p.pricing) AS cost\n",
    "FROM usage AS u\n",
    "LEFT JOIN prices AS p\n",
    "    ON u.sku_name = p.sku_name\n",
    "    AND u.usage_unit = p.usage_unit\n",
    "    AND u.usage_date BETWEEN p.price_start_time AND p.price_end_time\n",
    "GROUP BY 1\n",
    ");\n",
    "\n",
    "SELECT * FROM dbu_cost;"
   ]
  },
  {
   "cell_type": "code",
   "execution_count": 0,
   "metadata": {
    "application/vnd.databricks.v1+cell": {
     "cellMetadata": {
      "byteLimit": 2048000,
      "rowLimit": 10000
     },
     "inputWidgets": {},
     "nuid": "e7d9483b-64d7-47c3-a107-bce855d4d738",
     "showTitle": false,
     "tableResultSettingsMap": {},
     "title": ""
    }
   },
   "outputs": [],
   "source": [
    "CREATE OR REPLACE TEMPORARY VIEW predict AS (\n",
    "WITH\n",
    "azure_cost AS (\n",
    "    SELECT usage_date, FIRST(meter_category) AS sku, SUM(cost) AS cost\n",
    "    FROM main.billing.azure_cost\n",
    "    WHERE meter_category = 'Virtual Machines'\n",
    "    AND usage_date >= '2025-01-01'\n",
    "    GROUP BY 1\n",
    ")\n",
    "SELECT * FROM azure_cost\n",
    "UNION ALL\n",
    "SELECT * FROM dbu_cost\n",
    ");\n",
    "\n",
    "SELECT * FROM predict;"
   ]
  },
  {
   "cell_type": "code",
   "execution_count": 0,
   "metadata": {
    "application/vnd.databricks.v1+cell": {
     "cellMetadata": {
      "byteLimit": 2048000,
      "rowLimit": 10000
     },
     "inputWidgets": {},
     "nuid": "912a3b15-9906-4e1f-8ff9-6ca9c912544c",
     "showTitle": false,
     "tableResultSettingsMap": {},
     "title": ""
    }
   },
   "outputs": [],
   "source": [
    "CREATE OR REPLACE TABLE main.billing.forecast AS\n",
    "WITH predict_with_max AS (\n",
    "    SELECT *, MAX(cost) OVER (PARTITION BY sku) AS max_cost FROM predict\n",
    "),\n",
    "predict_with_params AS (\n",
    "    SELECT\n",
    "        usage_date,\n",
    "        sku,\n",
    "        cost,\n",
    "        '{\"global_floor\": 0, \"global_cap\": ' || (max_cost * 2) || '}' AS parameters\n",
    "    FROM predict_with_max\n",
    ")\n",
    "SELECT * FROM AI_FORECAST(\n",
    "    TABLE(predict_with_params),\n",
    "    horizon => (CURRENT_DATE + INTERVAL 365 DAYS),\n",
    "    time_col => 'usage_date',\n",
    "    value_col => 'cost',\n",
    "    group_col => 'sku',\n",
    "    prediction_interval_width => 0.9,\n",
    "    frequency => 'D',\n",
    "    seed => 666,\n",
    "    parameters => 'parameters'\n",
    ");\n",
    "\n",
    "SELECT * FROM main.billing.forecast"
   ]
  }
 ],
 "metadata": {
  "application/vnd.databricks.v1+notebook": {
   "computePreferences": null,
   "dashboards": [],
   "environmentMetadata": {
    "base_environment": "",
    "environment_version": "2"
   },
   "inputWidgetPreferences": null,
   "language": "sql",
   "notebookMetadata": {
    "pythonIndentUnit": 4
   },
   "notebookName": "04 Forecast",
   "widgets": {}
  },
  "language_info": {
   "name": "sql"
  }
 },
 "nbformat": 4,
 "nbformat_minor": 0
}
