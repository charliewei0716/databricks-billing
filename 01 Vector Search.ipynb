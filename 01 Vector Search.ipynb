{
 "cells": [
  {
   "cell_type": "markdown",
   "metadata": {
    "application/vnd.databricks.v1+cell": {
     "cellMetadata": {},
     "inputWidgets": {},
     "nuid": "9ac351eb-9831-4799-81d9-4f2b5f4b4c53",
     "showTitle": false,
     "tableResultSettingsMap": {},
     "title": ""
    }
   },
   "source": [
    "# 01 Vector Search"
   ]
  },
  {
   "cell_type": "code",
   "execution_count": 0,
   "metadata": {
    "application/vnd.databricks.v1+cell": {
     "cellMetadata": {
      "byteLimit": 2048000,
      "rowLimit": 10000
     },
     "inputWidgets": {},
     "nuid": "bcd81cad-84d1-42f9-bcb2-9d16fc56c235",
     "showTitle": false,
     "tableResultSettingsMap": {},
     "title": ""
    }
   },
   "outputs": [],
   "source": [
    "%pip install --upgrade --force-reinstall -qqq databricks-vectorsearch\n",
    "dbutils.library.restartPython()"
   ]
  },
  {
   "cell_type": "markdown",
   "metadata": {
    "application/vnd.databricks.v1+cell": {
     "cellMetadata": {},
     "inputWidgets": {},
     "nuid": "16708ed9-b0b0-4973-817e-c4ed6a5b22f9",
     "showTitle": false,
     "tableResultSettingsMap": {},
     "title": ""
    }
   },
   "source": [
    "# Create vector search endpoint"
   ]
  },
  {
   "cell_type": "code",
   "execution_count": 0,
   "metadata": {
    "application/vnd.databricks.v1+cell": {
     "cellMetadata": {
      "byteLimit": 2048000,
      "rowLimit": 10000
     },
     "inputWidgets": {},
     "nuid": "83a60aab-3017-412a-9384-6b3d8f319b79",
     "showTitle": false,
     "tableResultSettingsMap": {},
     "title": ""
    }
   },
   "outputs": [],
   "source": [
    "from databricks.vector_search.client import VectorSearchClient\n",
    "\n",
    "vsc = VectorSearchClient(disable_notice=True)"
   ]
  },
  {
   "cell_type": "code",
   "execution_count": 0,
   "metadata": {
    "application/vnd.databricks.v1+cell": {
     "cellMetadata": {
      "byteLimit": 2048000,
      "rowLimit": 10000
     },
     "inputWidgets": {},
     "nuid": "a812e72c-649a-42a5-ac9f-a6f93c8c228e",
     "showTitle": true,
     "tableResultSettingsMap": {},
     "title": "Create vector search endpoint"
    }
   },
   "outputs": [],
   "source": [
    "vector_search_endpoint_name = \"vector-search\"\n",
    "\n",
    "endpoint_names = [endpoint[\"name\"] for endpoint in vsc.list_endpoints()[\"endpoints\"]]\n",
    "\n",
    "if vector_search_endpoint_name not in endpoint_names:\n",
    "    vsc.create_endpoint(\n",
    "        name=vector_search_endpoint_name,\n",
    "        endpoint_type=\"STANDARD\"\n",
    "    )\n",
    "    print(f\"Created endpoint {vector_search_endpoint_name}\")\n",
    "else:\n",
    "    print(f\"Endpoint {vector_search_endpoint_name} already exists\")"
   ]
  },
  {
   "cell_type": "code",
   "execution_count": 0,
   "metadata": {
    "application/vnd.databricks.v1+cell": {
     "cellMetadata": {
      "byteLimit": 2048000,
      "rowLimit": 10000
     },
     "inputWidgets": {},
     "nuid": "348209e7-b06c-4c46-94ef-889b316d7268",
     "showTitle": true,
     "tableResultSettingsMap": {},
     "title": "Check endpoint ststatus"
    }
   },
   "outputs": [],
   "source": [
    "endpoint = vsc.get_endpoint(name=vector_search_endpoint_name)\n",
    "endpoint"
   ]
  },
  {
   "cell_type": "markdown",
   "metadata": {
    "application/vnd.databricks.v1+cell": {
     "cellMetadata": {},
     "inputWidgets": {},
     "nuid": "c699e343-5508-4a55-a950-2292134ef255",
     "showTitle": false,
     "tableResultSettingsMap": {},
     "title": ""
    }
   },
   "source": [
    "# Create Azure OpenAI Embedding Model Endpoint"
   ]
  },
  {
   "cell_type": "code",
   "execution_count": 0,
   "metadata": {
    "application/vnd.databricks.v1+cell": {
     "cellMetadata": {},
     "inputWidgets": {},
     "nuid": "bb07661e-303a-494d-af2f-8c7ca7644253",
     "showTitle": false,
     "tableResultSettingsMap": {},
     "title": ""
    }
   },
   "outputs": [],
   "source": [
    "import mlflow.deployments\n",
    "\n",
    "client = mlflow.deployments.get_deploy_client(\"databricks\")"
   ]
  },
  {
   "cell_type": "code",
   "execution_count": 0,
   "metadata": {
    "application/vnd.databricks.v1+cell": {
     "cellMetadata": {
      "byteLimit": 2048000,
      "rowLimit": 10000
     },
     "inputWidgets": {},
     "nuid": "4e9737c7-be2f-43eb-8164-8cd384c8b92c",
     "showTitle": true,
     "tableResultSettingsMap": {},
     "title": "Create embedding endpoint"
    }
   },
   "outputs": [],
   "source": [
    "embedding_model_endpoint_name = \"text-embedding-3-large\"\n",
    "api_base = \"\"\n",
    "api_key = \"\"\n",
    "\n",
    "endpoint_names = [endpoint[\"name\"] for endpoint in client.list_endpoints()]\n",
    "\n",
    "if embedding_model_endpoint_name not in endpoint_names:\n",
    "    client.create_endpoint(\n",
    "        name=embedding_model_endpoint_name,\n",
    "        config={\n",
    "            \"served_entities\": [\n",
    "                {\n",
    "                    \"name\": \"text-embedding-3-large\",\n",
    "                    \"external_model\": {\n",
    "                        \"name\": \"text-embedding-3-large\",\n",
    "                        \"provider\": \"openai\",\n",
    "                        \"task\": \"llm/v1/embeddings\",\n",
    "                        \"openai_config\": {\n",
    "                            \"openai_api_type\": \"azure\",\n",
    "                            \"openai_api_key_plaintext\": api_key,\n",
    "                            \"openai_api_base\": api_base,\n",
    "                            \"openai_deployment_name\": \"text-embedding-3-large\",\n",
    "                            \"openai_api_version\": \"2024-10-21\"\n",
    "                        },\n",
    "                    }\n",
    "                }\n",
    "            ]\n",
    "        }\n",
    "    )\n",
    "    print(f\"Created endpoint {embedding_model_endpoint_name}\")\n",
    "else:\n",
    "    print(f\"Endpoint {embedding_model_endpoint_name} already exists\")"
   ]
  },
  {
   "cell_type": "markdown",
   "metadata": {
    "application/vnd.databricks.v1+cell": {
     "cellMetadata": {},
     "inputWidgets": {},
     "nuid": "10d14665-f79e-4b06-8cc8-1c2737a2be5f",
     "showTitle": false,
     "tableResultSettingsMap": {},
     "title": ""
    }
   },
   "source": [
    "# Source Table"
   ]
  },
  {
   "cell_type": "code",
   "execution_count": 0,
   "metadata": {
    "application/vnd.databricks.v1+cell": {
     "cellMetadata": {
      "byteLimit": 2048000,
      "rowLimit": 10000
     },
     "inputWidgets": {},
     "nuid": "be03d01e-cad1-418b-959b-f5a014747b76",
     "showTitle": false,
     "tableResultSettingsMap": {},
     "title": ""
    }
   },
   "outputs": [],
   "source": [
    "dataset = \"databricks_databricks_documentation_dataset.v01.docs\"\n",
    "source_df = spark.table(dataset)\n",
    "display(source_df)"
   ]
  },
  {
   "cell_type": "code",
   "execution_count": 0,
   "metadata": {
    "application/vnd.databricks.v1+cell": {
     "cellMetadata": {
      "byteLimit": 2048000,
      "rowLimit": 10000
     },
     "inputWidgets": {},
     "nuid": "caec9aae-2fb8-4138-824e-baea924e4d1b",
     "showTitle": true,
     "tableResultSettingsMap": {},
     "title": "Clone dataset to source_table"
    }
   },
   "outputs": [],
   "source": [
    "source_table_name = \"main.billing.databricks_documentation\"\n",
    "\n",
    "spark.sql(f\"DROP TABLE IF EXISTS {source_table_name}\")\n",
    "\n",
    "source_df.write.format(\"delta\").mode(\"overwrite\") \\\n",
    "    .option(\"delta.enableChangeDataFeed\", \"true\") \\\n",
    "    .saveAsTable(source_table_name)"
   ]
  },
  {
   "cell_type": "markdown",
   "metadata": {
    "application/vnd.databricks.v1+cell": {
     "cellMetadata": {},
     "inputWidgets": {},
     "nuid": "65925b21-0d8e-4e4e-bf5e-7b9168b52a0a",
     "showTitle": false,
     "tableResultSettingsMap": {},
     "title": ""
    }
   },
   "source": [
    "# Create Vector Index"
   ]
  },
  {
   "cell_type": "code",
   "execution_count": 0,
   "metadata": {
    "application/vnd.databricks.v1+cell": {
     "cellMetadata": {
      "byteLimit": 2048000,
      "rowLimit": 10000
     },
     "inputWidgets": {},
     "nuid": "b7b6c439-a67a-4ad9-ab67-31c193b1b293",
     "showTitle": false,
     "tableResultSettingsMap": {},
     "title": ""
    }
   },
   "outputs": [],
   "source": [
    "index_name = \"main.billing.databricks_documentation_index\"\n",
    "\n",
    "index = vsc.create_delta_sync_index(\n",
    "    endpoint_name=vector_search_endpoint_name,\n",
    "    index_name=index_name,\n",
    "    primary_key=\"id\",\n",
    "    source_table_name=source_table_name,\n",
    "    pipeline_type=\"TRIGGERED\",\n",
    "    embedding_dimension=3072,\n",
    "    embedding_source_column=\"content\",\n",
    "    embedding_model_endpoint_name=embedding_model_endpoint_name\n",
    ")\n",
    "\n",
    "index.describe()['status']['message']"
   ]
  },
  {
   "cell_type": "markdown",
   "metadata": {
    "application/vnd.databricks.v1+cell": {
     "cellMetadata": {},
     "inputWidgets": {},
     "nuid": "536c4fa5-c603-4f83-9e88-b9c1fa175197",
     "showTitle": false,
     "tableResultSettingsMap": {},
     "title": ""
    }
   },
   "source": [
    "# Similarity Search"
   ]
  },
  {
   "cell_type": "code",
   "execution_count": 0,
   "metadata": {
    "application/vnd.databricks.v1+cell": {
     "cellMetadata": {
      "byteLimit": 2048000,
      "rowLimit": 10000
     },
     "inputWidgets": {},
     "nuid": "7f6b899f-847b-42ad-9d36-2f94976036cc",
     "showTitle": false,
     "tableResultSettingsMap": {},
     "title": ""
    }
   },
   "outputs": [],
   "source": [
    "results = index.similarity_search(\n",
    "    query_text=\"databricks\",\n",
    "    columns=[\"id\", \"content\"],\n",
    "    num_results=2\n",
    ")\n",
    "\n",
    "for result in results[\"result\"][\"data_array\"]:\n",
    "    print(f\"Content:\\n{result[1]}\")\n",
    "    print(\"\\n-----\\n\")"
   ]
  }
 ],
 "metadata": {
  "application/vnd.databricks.v1+notebook": {
   "computePreferences": null,
   "dashboards": [],
   "environmentMetadata": {
    "base_environment": "",
    "environment_version": "2"
   },
   "inputWidgetPreferences": null,
   "language": "python",
   "notebookMetadata": {
    "pythonIndentUnit": 4
   },
   "notebookName": "01 Vector Search",
   "widgets": {}
  },
  "language_info": {
   "name": "python"
  }
 },
 "nbformat": 4,
 "nbformat_minor": 0
}
