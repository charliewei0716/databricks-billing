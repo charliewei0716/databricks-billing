{
 "cells": [
  {
   "cell_type": "markdown",
   "metadata": {
    "application/vnd.databricks.v1+cell": {
     "cellMetadata": {},
     "inputWidgets": {},
     "nuid": "d7093e07-c00f-4577-9b65-853d6e736e89",
     "showTitle": false,
     "tableResultSettingsMap": {},
     "title": ""
    }
   },
   "source": [
    "# 00 Setup"
   ]
  },
  {
   "cell_type": "markdown",
   "metadata": {
    "application/vnd.databricks.v1+cell": {
     "cellMetadata": {},
     "inputWidgets": {},
     "nuid": "1b07f901-b5e0-4823-88ea-1094bd0d7bcc",
     "showTitle": false,
     "tableResultSettingsMap": {},
     "title": ""
    }
   },
   "source": [
    "## Create VIEW from system.billing"
   ]
  },
  {
   "cell_type": "code",
   "execution_count": 0,
   "metadata": {
    "application/vnd.databricks.v1+cell": {
     "cellMetadata": {},
     "inputWidgets": {},
     "nuid": "c79864aa-392d-4314-a44e-f52c63d8d498",
     "showTitle": false,
     "tableResultSettingsMap": {},
     "title": ""
    }
   },
   "outputs": [],
   "source": [
    "%sql\n",
    "CREATE OR REPLACE VIEW main.billing.view_usage\n",
    "COMMENT 'The usage table gives you access to account-wide billable usage data. The data is centralized and routed to all regions.' AS\n",
    "(\n",
    "  SELECT\n",
    "    workspace_id,\n",
    "    sku_name,\n",
    "    usage_start_time,\n",
    "    usage_end_time,\n",
    "    usage_date,\n",
    "    usage_unit,\n",
    "    usage_quantity,\n",
    "    billing_origin_product,\n",
    "    usage_type\n",
    "  FROM\n",
    "    system.billing.usage\n",
    ")"
   ]
  },
  {
   "cell_type": "code",
   "execution_count": 0,
   "metadata": {
    "application/vnd.databricks.v1+cell": {
     "cellMetadata": {},
     "inputWidgets": {},
     "nuid": "b1a51406-459b-4280-acc6-680b6082bd86",
     "showTitle": false,
     "tableResultSettingsMap": {},
     "title": ""
    }
   },
   "outputs": [],
   "source": [
    "%sql\n",
    "CREATE OR REPLACE VIEW main.billing.view_list_prices (\n",
    "  price_start_time, price_end_time, sku_name, currency_code, usage_unit, pricing\n",
    "  COMMENT 'The single price that can be used for simple long-term estimates'\n",
    ")\n",
    "COMMENT 'The pricing table gives you access to a historical log of SKU pricing. A record gets added each time there is a change to a SKU price.' AS\n",
    "(\n",
    "  SELECT\n",
    "    price_start_time,\n",
    "    price_end_time,\n",
    "    sku_name,\n",
    "    currency_code,\n",
    "    usage_unit,\n",
    "    pricing.effective_list.default AS pricing\n",
    "  FROM\n",
    "    system.billing.list_prices\n",
    ")"
   ]
  },
  {
   "cell_type": "markdown",
   "metadata": {
    "application/vnd.databricks.v1+cell": {
     "cellMetadata": {},
     "inputWidgets": {},
     "nuid": "0ee90e78-8e7f-4470-9cfc-4684adc1147e",
     "showTitle": false,
     "tableResultSettingsMap": {},
     "title": ""
    }
   },
   "source": [
    "## RI"
   ]
  },
  {
   "cell_type": "code",
   "execution_count": 0,
   "metadata": {
    "application/vnd.databricks.v1+cell": {
     "cellMetadata": {},
     "inputWidgets": {},
     "nuid": "faa1f067-6f5c-4e63-a384-8d0a7b121377",
     "showTitle": false,
     "tableResultSettingsMap": {},
     "title": ""
    }
   },
   "outputs": [],
   "source": [
    "%sql\n",
    "CREATE OR REPLACE TABLE main.billing.azure_dbu_discount(\n",
    "  dbu DOUBLE COMMENT 'The purchase volume of DBU is denominated in USD',\n",
    "  discount DOUBLE COMMENT 'The discount rate'\n",
    ")\n",
    "COMMENT 'The discount table records the discounts available for each purchase volume when reserving instances (RI) of Azure Databricks DBU.';\n",
    "\n",
    "INSERT INTO main.billing.azure_dbu_discount (dbu, discount)\n",
    "  VALUES\n",
    "    (0, 0),\n",
    "    (12500, 0.04),\n",
    "    (25000, 0.06),\n",
    "    (50000, 0.08),\n",
    "    (100000, 0.11),\n",
    "    (200000, 0.14),\n",
    "    (350000, 0.18),\n",
    "    (500000, 0.20),\n",
    "    (750000, 0.23),\n",
    "    (1000000, 0.27),\n",
    "    (1500000, 0.30),\n",
    "    (2000000, 0.33);"
   ]
  },
  {
   "cell_type": "code",
   "execution_count": 0,
   "metadata": {
    "application/vnd.databricks.v1+cell": {
     "cellMetadata": {},
     "inputWidgets": {},
     "nuid": "7bee734f-49d9-498c-a80f-1578133fc226",
     "showTitle": false,
     "tableResultSettingsMap": {},
     "title": ""
    }
   },
   "outputs": [],
   "source": [
    "%sql\n",
    "CREATE OR REPLACE FUNCTION main.billing.get_dbu_discount()\n",
    "  RETURNS TABLE(dbu DOUBLE, discount DOUBLE)\n",
    "  COMMENT 'Get information about the available discounts for each purchase volume when reserving Azure Databricks DBU Reserved Instances (RI).'\n",
    "  RETURN\n",
    "    SELECT\n",
    "      *\n",
    "    FROM\n",
    "      main.billing.azure_dbu_discount"
   ]
  },
  {
   "cell_type": "markdown",
   "metadata": {
    "application/vnd.databricks.v1+cell": {
     "cellMetadata": {},
     "inputWidgets": {},
     "nuid": "9d3203d0-28b6-4a54-8c59-7a042a920be7",
     "showTitle": false,
     "tableResultSettingsMap": {},
     "title": ""
    }
   },
   "source": [
    "## Genie"
   ]
  },
  {
   "cell_type": "markdown",
   "metadata": {
    "application/vnd.databricks.v1+cell": {
     "cellMetadata": {},
     "inputWidgets": {},
     "nuid": "9e5cbac0-350a-4130-bd71-7b742e3d5ef7",
     "showTitle": false,
     "tableResultSettingsMap": {},
     "title": ""
    }
   },
   "source": [
    "Based on [the document](https://docs.databricks.com/aws/en/genie/set-up), establish Genie Space."
   ]
  }
 ],
 "metadata": {
  "application/vnd.databricks.v1+notebook": {
   "computePreferences": null,
   "dashboards": [],
   "environmentMetadata": {
    "base_environment": "",
    "environment_version": "2"
   },
   "inputWidgetPreferences": null,
   "language": "python",
   "notebookMetadata": {
    "pythonIndentUnit": 4
   },
   "notebookName": "00 Setup",
   "widgets": {}
  },
  "language_info": {
   "name": "python"
  }
 },
 "nbformat": 4,
 "nbformat_minor": 0
}
